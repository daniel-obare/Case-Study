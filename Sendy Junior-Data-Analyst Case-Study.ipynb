{
 "cells": [
  {
   "cell_type": "markdown",
   "metadata": {},
   "source": [
    "# Sendy Junior Data Analyst Case Study\n",
    "## 1. Data Preparation and Cleaning.\n",
    "### Objective: Model to predict Cancellation Reasons\n",
    "### 1.1 Load libraries and data importing"
   ]
  },
  {
   "cell_type": "code",
   "execution_count": 1,
   "metadata": {},
   "outputs": [],
   "source": [
    "import pandas as pd \n",
    "pd.set_option('display.max_columns', 50)\n",
    "import numpy as np\n",
    "import datetime\n",
    "from IPython.display import display \n",
    "#\n",
    "import matplotlib.pyplot as plt \n",
    "%matplotlib inline\n",
    "plt.style.use('ggplot')\n",
    "plt.rcParams['figure.figsize'] = (18, 8)\n",
    "import seaborn as sns\n",
    "sns.set_style('dark')\n",
    "#\n",
    "import warnings\n",
    "warnings.filterwarnings('ignore')\n",
    "import gc                                       # memory management"
   ]
  },
  {
   "cell_type": "code",
   "execution_count": 2,
   "metadata": {},
   "outputs": [
    {
     "name": "stdout",
     "output_type": "stream",
     "text": [
      "Train data shape: 6398 Rows, 17 Columns\n",
      "Test data shape: 329 Rows, 17 Columns\n"
     ]
    }
   ],
   "source": [
    "train = pd.read_excel('Junior Data Analyst Data for Case Study.xlsx', sheet_name='Query result')\n",
    "test = pd.read_excel('Junior Data Analyst Data for Case Study.xlsx', sheet_name='Missing Cancel Reason')\n",
    "# Check The Shape Of The Data Loaded\n",
    "print('Train data shape: {} Rows, {} Columns'.format(*train.shape))\n",
    "print('Test data shape: {} Rows, {} Columns'.format(*test.shape))"
   ]
  },
  {
   "cell_type": "code",
   "execution_count": 3,
   "metadata": {},
   "outputs": [
    {
     "data": {
      "text/plain": [
       "'Train data'"
      ]
     },
     "metadata": {},
     "output_type": "display_data"
    },
    {
     "data": {
      "text/html": [
       "<div>\n",
       "<style scoped>\n",
       "    .dataframe tbody tr th:only-of-type {\n",
       "        vertical-align: middle;\n",
       "    }\n",
       "\n",
       "    .dataframe tbody tr th {\n",
       "        vertical-align: top;\n",
       "    }\n",
       "\n",
       "    .dataframe thead th {\n",
       "        text-align: right;\n",
       "    }\n",
       "</style>\n",
       "<table border=\"1\" class=\"dataframe\">\n",
       "  <thead>\n",
       "    <tr style=\"text-align: right;\">\n",
       "      <th></th>\n",
       "      <th>Personal or Business</th>\n",
       "      <th>Business Number</th>\n",
       "      <th>Vehicle Type</th>\n",
       "      <th>Standard or Express</th>\n",
       "      <th>Platform</th>\n",
       "      <th>Cancel Reason</th>\n",
       "      <th>Cancelled by</th>\n",
       "      <th>Placement Day</th>\n",
       "      <th>Placement Time</th>\n",
       "      <th>Confirmation Day</th>\n",
       "      <th>Confirmation Time</th>\n",
       "      <th>Cancellation Day</th>\n",
       "      <th>Cancellation Time</th>\n",
       "      <th>Distance (KM)</th>\n",
       "      <th>Pickup Lat</th>\n",
       "      <th>Pickup Long</th>\n",
       "      <th>scheduled</th>\n",
       "    </tr>\n",
       "  </thead>\n",
       "  <tbody>\n",
       "    <tr>\n",
       "      <th>0</th>\n",
       "      <td>Personal</td>\n",
       "      <td>NaN</td>\n",
       "      <td>Bike</td>\n",
       "      <td>Express</td>\n",
       "      <td>android</td>\n",
       "      <td>No driver has been allocated to my request.</td>\n",
       "      <td>Customer</td>\n",
       "      <td>1</td>\n",
       "      <td>17:55:38</td>\n",
       "      <td>NaN</td>\n",
       "      <td>NaN</td>\n",
       "      <td>1</td>\n",
       "      <td>17:56:35</td>\n",
       "      <td>9</td>\n",
       "      <td>-1.313053</td>\n",
       "      <td>36.841437</td>\n",
       "      <td>OnDemAND</td>\n",
       "    </tr>\n",
       "    <tr>\n",
       "      <th>1</th>\n",
       "      <td>Personal</td>\n",
       "      <td>NaN</td>\n",
       "      <td>Bike</td>\n",
       "      <td>Express</td>\n",
       "      <td>android</td>\n",
       "      <td>My order is not ready.</td>\n",
       "      <td>Customer</td>\n",
       "      <td>1</td>\n",
       "      <td>12:26:27</td>\n",
       "      <td>1.0</td>\n",
       "      <td>12:27:36</td>\n",
       "      <td>1</td>\n",
       "      <td>12:28:44</td>\n",
       "      <td>14</td>\n",
       "      <td>-1.318959</td>\n",
       "      <td>36.853394</td>\n",
       "      <td>OnDemAND</td>\n",
       "    </tr>\n",
       "    <tr>\n",
       "      <th>2</th>\n",
       "      <td>Business</td>\n",
       "      <td>20680.0</td>\n",
       "      <td>Bike</td>\n",
       "      <td>Express</td>\n",
       "      <td>android</td>\n",
       "      <td>I placed the wrong locations.</td>\n",
       "      <td>Customer</td>\n",
       "      <td>1</td>\n",
       "      <td>13:21:18</td>\n",
       "      <td>1.0</td>\n",
       "      <td>13:21:34</td>\n",
       "      <td>1</td>\n",
       "      <td>13:47:29</td>\n",
       "      <td>16</td>\n",
       "      <td>-1.313854</td>\n",
       "      <td>36.706867</td>\n",
       "      <td>OnDemAND</td>\n",
       "    </tr>\n",
       "  </tbody>\n",
       "</table>\n",
       "</div>"
      ],
      "text/plain": [
       "  Personal or Business  Business Number Vehicle Type Standard or Express  \\\n",
       "0             Personal              NaN         Bike             Express   \n",
       "1             Personal              NaN         Bike             Express   \n",
       "2             Business          20680.0         Bike             Express   \n",
       "\n",
       "  Platform                                Cancel Reason Cancelled by  \\\n",
       "0  android  No driver has been allocated to my request.     Customer   \n",
       "1  android                       My order is not ready.     Customer   \n",
       "2  android                I placed the wrong locations.     Customer   \n",
       "\n",
       "   Placement Day Placement Time  Confirmation Day Confirmation Time  \\\n",
       "0              1       17:55:38               NaN               NaN   \n",
       "1              1       12:26:27               1.0          12:27:36   \n",
       "2              1       13:21:18               1.0          13:21:34   \n",
       "\n",
       "   Cancellation Day Cancellation Time  Distance (KM)  Pickup Lat  Pickup Long  \\\n",
       "0                 1          17:56:35              9   -1.313053    36.841437   \n",
       "1                 1          12:28:44             14   -1.318959    36.853394   \n",
       "2                 1          13:47:29             16   -1.313854    36.706867   \n",
       "\n",
       "  scheduled  \n",
       "0  OnDemAND  \n",
       "1  OnDemAND  \n",
       "2  OnDemAND  "
      ]
     },
     "metadata": {},
     "output_type": "display_data"
    },
    {
     "data": {
      "text/plain": [
       "'Test data'"
      ]
     },
     "metadata": {},
     "output_type": "display_data"
    },
    {
     "data": {
      "text/html": [
       "<div>\n",
       "<style scoped>\n",
       "    .dataframe tbody tr th:only-of-type {\n",
       "        vertical-align: middle;\n",
       "    }\n",
       "\n",
       "    .dataframe tbody tr th {\n",
       "        vertical-align: top;\n",
       "    }\n",
       "\n",
       "    .dataframe thead th {\n",
       "        text-align: right;\n",
       "    }\n",
       "</style>\n",
       "<table border=\"1\" class=\"dataframe\">\n",
       "  <thead>\n",
       "    <tr style=\"text-align: right;\">\n",
       "      <th></th>\n",
       "      <th>Personal or Business</th>\n",
       "      <th>Business Number</th>\n",
       "      <th>Vehicle Type</th>\n",
       "      <th>Standard or Express</th>\n",
       "      <th>Platform</th>\n",
       "      <th>Cancel Reason</th>\n",
       "      <th>Cancelled by</th>\n",
       "      <th>Placement Day</th>\n",
       "      <th>Placement Time</th>\n",
       "      <th>Confirmation Day</th>\n",
       "      <th>Confirmation Time</th>\n",
       "      <th>Cancellation Day</th>\n",
       "      <th>Cancellation Time</th>\n",
       "      <th>Distance (KM)</th>\n",
       "      <th>Pickup Lat</th>\n",
       "      <th>Pickup Long</th>\n",
       "      <th>scheduled</th>\n",
       "    </tr>\n",
       "  </thead>\n",
       "  <tbody>\n",
       "    <tr>\n",
       "      <th>0</th>\n",
       "      <td>Personal</td>\n",
       "      <td>NaN</td>\n",
       "      <td>Bike</td>\n",
       "      <td>Express</td>\n",
       "      <td>ios</td>\n",
       "      <td>NaN</td>\n",
       "      <td>Customer</td>\n",
       "      <td>1</td>\n",
       "      <td>15:23:44</td>\n",
       "      <td>1.0</td>\n",
       "      <td>16:40:47</td>\n",
       "      <td>1</td>\n",
       "      <td>16:43:50</td>\n",
       "      <td>4</td>\n",
       "      <td>-1.299370</td>\n",
       "      <td>36.822107</td>\n",
       "      <td>OnDemAND</td>\n",
       "    </tr>\n",
       "    <tr>\n",
       "      <th>1</th>\n",
       "      <td>Business</td>\n",
       "      <td>20680.0</td>\n",
       "      <td>Bike</td>\n",
       "      <td>Express</td>\n",
       "      <td>desktop</td>\n",
       "      <td>NaN</td>\n",
       "      <td>Staff</td>\n",
       "      <td>1</td>\n",
       "      <td>14:21:46</td>\n",
       "      <td>1.0</td>\n",
       "      <td>14:22:20</td>\n",
       "      <td>1</td>\n",
       "      <td>14:30:48</td>\n",
       "      <td>17</td>\n",
       "      <td>-1.264490</td>\n",
       "      <td>36.789303</td>\n",
       "      <td>OnDemAND</td>\n",
       "    </tr>\n",
       "    <tr>\n",
       "      <th>2</th>\n",
       "      <td>Business</td>\n",
       "      <td>17968.0</td>\n",
       "      <td>Bike</td>\n",
       "      <td>Express</td>\n",
       "      <td>desktop</td>\n",
       "      <td>NaN</td>\n",
       "      <td>Customer</td>\n",
       "      <td>1</td>\n",
       "      <td>15:13:20</td>\n",
       "      <td>NaN</td>\n",
       "      <td>NaN</td>\n",
       "      <td>1</td>\n",
       "      <td>15:56:34</td>\n",
       "      <td>18</td>\n",
       "      <td>-1.427056</td>\n",
       "      <td>36.961499</td>\n",
       "      <td>OnDemAND</td>\n",
       "    </tr>\n",
       "  </tbody>\n",
       "</table>\n",
       "</div>"
      ],
      "text/plain": [
       "  Personal or Business  Business Number Vehicle Type Standard or Express  \\\n",
       "0             Personal              NaN         Bike             Express   \n",
       "1             Business          20680.0         Bike             Express   \n",
       "2             Business          17968.0         Bike             Express   \n",
       "\n",
       "  Platform  Cancel Reason Cancelled by  Placement Day Placement Time  \\\n",
       "0      ios            NaN     Customer              1       15:23:44   \n",
       "1  desktop            NaN        Staff              1       14:21:46   \n",
       "2  desktop            NaN     Customer              1       15:13:20   \n",
       "\n",
       "   Confirmation Day Confirmation Time  Cancellation Day Cancellation Time  \\\n",
       "0               1.0          16:40:47                 1          16:43:50   \n",
       "1               1.0          14:22:20                 1          14:30:48   \n",
       "2               NaN               NaN                 1          15:56:34   \n",
       "\n",
       "   Distance (KM)  Pickup Lat  Pickup Long scheduled  \n",
       "0              4   -1.299370    36.822107  OnDemAND  \n",
       "1             17   -1.264490    36.789303  OnDemAND  \n",
       "2             18   -1.427056    36.961499  OnDemAND  "
      ]
     },
     "metadata": {},
     "output_type": "display_data"
    }
   ],
   "source": [
    "# Print First Few Rows Of The Data\n",
    "display(\"Train data\")\n",
    "display(train.head(3))\n",
    "#\n",
    "display(\"Test data\")\n",
    "display(test.head(3))"
   ]
  },
  {
   "cell_type": "code",
   "execution_count": 4,
   "metadata": {},
   "outputs": [
    {
     "data": {
      "text/plain": [
       "'Train data'"
      ]
     },
     "metadata": {},
     "output_type": "display_data"
    },
    {
     "data": {
      "text/plain": [
       "Index(['Personal or Business', 'Business Number', 'Vehicle Type',\n",
       "       'Standard or Express', 'Platform', 'Cancel Reason', 'Cancelled by',\n",
       "       'Placement Day', 'Placement Time', 'Confirmation Day',\n",
       "       'Confirmation Time', 'Cancellation Day', 'Cancellation Time',\n",
       "       'Distance (KM)', 'Pickup Lat', 'Pickup Long', 'scheduled'],\n",
       "      dtype='object')"
      ]
     },
     "metadata": {},
     "output_type": "display_data"
    },
    {
     "data": {
      "text/plain": [
       "'Test data'"
      ]
     },
     "metadata": {},
     "output_type": "display_data"
    },
    {
     "data": {
      "text/plain": [
       "Index(['Personal or Business', 'Business Number', 'Vehicle Type',\n",
       "       'Standard or Express', 'Platform', 'Cancel Reason', 'Cancelled by',\n",
       "       'Placement Day', 'Placement Time', 'Confirmation Day',\n",
       "       'Confirmation Time', 'Cancellation Day', 'Cancellation Time',\n",
       "       'Distance (KM)', 'Pickup Lat', 'Pickup Long', 'scheduled'],\n",
       "      dtype='object')"
      ]
     },
     "metadata": {},
     "output_type": "display_data"
    }
   ],
   "source": [
    "#column/variable names\n",
    "display(\"Train data\")\n",
    "display(train.columns)\n",
    "display(\"Test data\")\n",
    "display(test.columns)"
   ]
  },
  {
   "cell_type": "markdown",
   "metadata": {},
   "source": [
    "### 1.2 Structure of the data"
   ]
  },
  {
   "cell_type": "markdown",
   "metadata": {},
   "source": [
    "**Pandas Profiling the Train and Test sets**"
   ]
  },
  {
   "cell_type": "code",
   "execution_count": 5,
   "metadata": {
    "scrolled": false
   },
   "outputs": [
    {
     "data": {
      "application/vnd.jupyter.widget-view+json": {
       "model_id": "6a372f365ff34503aaa43da20956a359",
       "version_major": 2,
       "version_minor": 0
      },
      "text/plain": [
       "Summarize dataset:   0%|          | 0/30 [00:00<?, ?it/s]"
      ]
     },
     "metadata": {},
     "output_type": "display_data"
    },
    {
     "data": {
      "application/vnd.jupyter.widget-view+json": {
       "model_id": "14fb2d92867a4928b82c3fa9897a6bce",
       "version_major": 2,
       "version_minor": 0
      },
      "text/plain": [
       "Generate report structure:   0%|          | 0/1 [00:00<?, ?it/s]"
      ]
     },
     "metadata": {},
     "output_type": "display_data"
    },
    {
     "data": {
      "application/vnd.jupyter.widget-view+json": {
       "model_id": "7446c298ab84448db50832e8c86c2477",
       "version_major": 2,
       "version_minor": 0
      },
      "text/plain": [
       "Render HTML:   0%|          | 0/1 [00:00<?, ?it/s]"
      ]
     },
     "metadata": {},
     "output_type": "display_data"
    },
    {
     "data": {
      "application/vnd.jupyter.widget-view+json": {
       "model_id": "b7a52a15ebfb4f8eb2c60e84e2c25f9b",
       "version_major": 2,
       "version_minor": 0
      },
      "text/plain": [
       "Export report to file:   0%|          | 0/1 [00:00<?, ?it/s]"
      ]
     },
     "metadata": {},
     "output_type": "display_data"
    }
   ],
   "source": [
    "#train data pandas profiling\n",
    "from pandas_profiling import ProfileReport\n",
    "profile = ProfileReport(train)\n",
    "profile.to_file(output_file='Query_Result_Profiling_Report.html')\n",
    "#\n",
    "#test data pandas profiling\n",
    "#profile = ProfileReport(test)\n",
    "#profile.to_file(output_file='Test_Profiling.html')"
   ]
  },
  {
   "cell_type": "markdown",
   "metadata": {},
   "source": [
    "### 1.3 Merge datasets\n",
    "Tag the train and test data seperately with a column or variable"
   ]
  },
  {
   "cell_type": "code",
   "execution_count": 6,
   "metadata": {},
   "outputs": [],
   "source": [
    "train['set'] = 'train'\n",
    "test['set'] = 'test'"
   ]
  },
  {
   "cell_type": "code",
   "execution_count": 7,
   "metadata": {},
   "outputs": [
    {
     "data": {
      "text/html": [
       "<div>\n",
       "<style scoped>\n",
       "    .dataframe tbody tr th:only-of-type {\n",
       "        vertical-align: middle;\n",
       "    }\n",
       "\n",
       "    .dataframe tbody tr th {\n",
       "        vertical-align: top;\n",
       "    }\n",
       "\n",
       "    .dataframe thead th {\n",
       "        text-align: right;\n",
       "    }\n",
       "</style>\n",
       "<table border=\"1\" class=\"dataframe\">\n",
       "  <thead>\n",
       "    <tr style=\"text-align: right;\">\n",
       "      <th></th>\n",
       "      <th>Personal or Business</th>\n",
       "      <th>Business Number</th>\n",
       "      <th>Vehicle Type</th>\n",
       "      <th>Standard or Express</th>\n",
       "      <th>Platform</th>\n",
       "      <th>Cancel Reason</th>\n",
       "      <th>Cancelled by</th>\n",
       "      <th>Placement Day</th>\n",
       "      <th>Placement Time</th>\n",
       "      <th>Confirmation Day</th>\n",
       "      <th>Confirmation Time</th>\n",
       "      <th>Cancellation Day</th>\n",
       "      <th>Cancellation Time</th>\n",
       "      <th>Distance (KM)</th>\n",
       "      <th>Pickup Lat</th>\n",
       "      <th>Pickup Long</th>\n",
       "      <th>scheduled</th>\n",
       "      <th>set</th>\n",
       "    </tr>\n",
       "  </thead>\n",
       "  <tbody>\n",
       "    <tr>\n",
       "      <th>0</th>\n",
       "      <td>Personal</td>\n",
       "      <td>NaN</td>\n",
       "      <td>Bike</td>\n",
       "      <td>Express</td>\n",
       "      <td>android</td>\n",
       "      <td>No driver has been allocated to my request.</td>\n",
       "      <td>Customer</td>\n",
       "      <td>1</td>\n",
       "      <td>17:55:38</td>\n",
       "      <td>NaN</td>\n",
       "      <td>NaN</td>\n",
       "      <td>1</td>\n",
       "      <td>17:56:35</td>\n",
       "      <td>9</td>\n",
       "      <td>-1.313053</td>\n",
       "      <td>36.841437</td>\n",
       "      <td>OnDemAND</td>\n",
       "      <td>train</td>\n",
       "    </tr>\n",
       "    <tr>\n",
       "      <th>1</th>\n",
       "      <td>Personal</td>\n",
       "      <td>NaN</td>\n",
       "      <td>Bike</td>\n",
       "      <td>Express</td>\n",
       "      <td>android</td>\n",
       "      <td>My order is not ready.</td>\n",
       "      <td>Customer</td>\n",
       "      <td>1</td>\n",
       "      <td>12:26:27</td>\n",
       "      <td>1.0</td>\n",
       "      <td>12:27:36</td>\n",
       "      <td>1</td>\n",
       "      <td>12:28:44</td>\n",
       "      <td>14</td>\n",
       "      <td>-1.318959</td>\n",
       "      <td>36.853394</td>\n",
       "      <td>OnDemAND</td>\n",
       "      <td>train</td>\n",
       "    </tr>\n",
       "    <tr>\n",
       "      <th>2</th>\n",
       "      <td>Business</td>\n",
       "      <td>20680.0</td>\n",
       "      <td>Bike</td>\n",
       "      <td>Express</td>\n",
       "      <td>android</td>\n",
       "      <td>I placed the wrong locations.</td>\n",
       "      <td>Customer</td>\n",
       "      <td>1</td>\n",
       "      <td>13:21:18</td>\n",
       "      <td>1.0</td>\n",
       "      <td>13:21:34</td>\n",
       "      <td>1</td>\n",
       "      <td>13:47:29</td>\n",
       "      <td>16</td>\n",
       "      <td>-1.313854</td>\n",
       "      <td>36.706867</td>\n",
       "      <td>OnDemAND</td>\n",
       "      <td>train</td>\n",
       "    </tr>\n",
       "  </tbody>\n",
       "</table>\n",
       "</div>"
      ],
      "text/plain": [
       "  Personal or Business  Business Number Vehicle Type Standard or Express  \\\n",
       "0             Personal              NaN         Bike             Express   \n",
       "1             Personal              NaN         Bike             Express   \n",
       "2             Business          20680.0         Bike             Express   \n",
       "\n",
       "  Platform                                Cancel Reason Cancelled by  \\\n",
       "0  android  No driver has been allocated to my request.     Customer   \n",
       "1  android                       My order is not ready.     Customer   \n",
       "2  android                I placed the wrong locations.     Customer   \n",
       "\n",
       "   Placement Day Placement Time  Confirmation Day Confirmation Time  \\\n",
       "0              1       17:55:38               NaN               NaN   \n",
       "1              1       12:26:27               1.0          12:27:36   \n",
       "2              1       13:21:18               1.0          13:21:34   \n",
       "\n",
       "   Cancellation Day Cancellation Time  Distance (KM)  Pickup Lat  Pickup Long  \\\n",
       "0                 1          17:56:35              9   -1.313053    36.841437   \n",
       "1                 1          12:28:44             14   -1.318959    36.853394   \n",
       "2                 1          13:47:29             16   -1.313854    36.706867   \n",
       "\n",
       "  scheduled    set  \n",
       "0  OnDemAND  train  \n",
       "1  OnDemAND  train  \n",
       "2  OnDemAND  train  "
      ]
     },
     "metadata": {},
     "output_type": "display_data"
    },
    {
     "data": {
      "text/html": [
       "<div>\n",
       "<style scoped>\n",
       "    .dataframe tbody tr th:only-of-type {\n",
       "        vertical-align: middle;\n",
       "    }\n",
       "\n",
       "    .dataframe tbody tr th {\n",
       "        vertical-align: top;\n",
       "    }\n",
       "\n",
       "    .dataframe thead th {\n",
       "        text-align: right;\n",
       "    }\n",
       "</style>\n",
       "<table border=\"1\" class=\"dataframe\">\n",
       "  <thead>\n",
       "    <tr style=\"text-align: right;\">\n",
       "      <th></th>\n",
       "      <th>Personal or Business</th>\n",
       "      <th>Business Number</th>\n",
       "      <th>Vehicle Type</th>\n",
       "      <th>Standard or Express</th>\n",
       "      <th>Platform</th>\n",
       "      <th>Cancel Reason</th>\n",
       "      <th>Cancelled by</th>\n",
       "      <th>Placement Day</th>\n",
       "      <th>Placement Time</th>\n",
       "      <th>Confirmation Day</th>\n",
       "      <th>Confirmation Time</th>\n",
       "      <th>Cancellation Day</th>\n",
       "      <th>Cancellation Time</th>\n",
       "      <th>Distance (KM)</th>\n",
       "      <th>Pickup Lat</th>\n",
       "      <th>Pickup Long</th>\n",
       "      <th>scheduled</th>\n",
       "      <th>set</th>\n",
       "    </tr>\n",
       "  </thead>\n",
       "  <tbody>\n",
       "    <tr>\n",
       "      <th>326</th>\n",
       "      <td>Personal</td>\n",
       "      <td>NaN</td>\n",
       "      <td>Bike</td>\n",
       "      <td>Standard</td>\n",
       "      <td>desktop</td>\n",
       "      <td>NaN</td>\n",
       "      <td>Customer</td>\n",
       "      <td>7</td>\n",
       "      <td>16:33:09</td>\n",
       "      <td>NaN</td>\n",
       "      <td>NaN</td>\n",
       "      <td>7</td>\n",
       "      <td>16:33:57</td>\n",
       "      <td>17</td>\n",
       "      <td>-1.274964</td>\n",
       "      <td>36.911953</td>\n",
       "      <td>OnDemAND</td>\n",
       "      <td>test</td>\n",
       "    </tr>\n",
       "    <tr>\n",
       "      <th>327</th>\n",
       "      <td>Personal</td>\n",
       "      <td>NaN</td>\n",
       "      <td>Bike</td>\n",
       "      <td>Standard</td>\n",
       "      <td>android</td>\n",
       "      <td>NaN</td>\n",
       "      <td>Customer</td>\n",
       "      <td>7</td>\n",
       "      <td>13:00:13</td>\n",
       "      <td>NaN</td>\n",
       "      <td>NaN</td>\n",
       "      <td>7</td>\n",
       "      <td>13:20:01</td>\n",
       "      <td>10</td>\n",
       "      <td>-1.324390</td>\n",
       "      <td>36.849949</td>\n",
       "      <td>OnDemAND</td>\n",
       "      <td>test</td>\n",
       "    </tr>\n",
       "    <tr>\n",
       "      <th>328</th>\n",
       "      <td>Personal</td>\n",
       "      <td>NaN</td>\n",
       "      <td>Bike</td>\n",
       "      <td>Standard</td>\n",
       "      <td>android</td>\n",
       "      <td>NaN</td>\n",
       "      <td>Customer</td>\n",
       "      <td>7</td>\n",
       "      <td>08:07:50</td>\n",
       "      <td>NaN</td>\n",
       "      <td>NaN</td>\n",
       "      <td>7</td>\n",
       "      <td>08:31:51</td>\n",
       "      <td>22</td>\n",
       "      <td>-1.297139</td>\n",
       "      <td>36.790044</td>\n",
       "      <td>OnDemAND</td>\n",
       "      <td>test</td>\n",
       "    </tr>\n",
       "  </tbody>\n",
       "</table>\n",
       "</div>"
      ],
      "text/plain": [
       "    Personal or Business  Business Number Vehicle Type Standard or Express  \\\n",
       "326             Personal              NaN         Bike            Standard   \n",
       "327             Personal              NaN         Bike            Standard   \n",
       "328             Personal              NaN         Bike            Standard   \n",
       "\n",
       "    Platform Cancel Reason Cancelled by  Placement Day Placement Time  \\\n",
       "326  desktop           NaN     Customer              7       16:33:09   \n",
       "327  android           NaN     Customer              7       13:00:13   \n",
       "328  android           NaN     Customer              7       08:07:50   \n",
       "\n",
       "     Confirmation Day Confirmation Time  Cancellation Day Cancellation Time  \\\n",
       "326               NaN               NaN                 7          16:33:57   \n",
       "327               NaN               NaN                 7          13:20:01   \n",
       "328               NaN               NaN                 7          08:31:51   \n",
       "\n",
       "     Distance (KM)  Pickup Lat  Pickup Long scheduled   set  \n",
       "326             17   -1.274964    36.911953  OnDemAND  test  \n",
       "327             10   -1.324390    36.849949  OnDemAND  test  \n",
       "328             22   -1.297139    36.790044  OnDemAND  test  "
      ]
     },
     "metadata": {},
     "output_type": "display_data"
    }
   ],
   "source": [
    "#merge the two sets of data for data analysis and visualization\n",
    "data = pd.concat([train,test])\n",
    "display(data.head(3))\n",
    "display(data.tail(3))"
   ]
  },
  {
   "cell_type": "code",
   "execution_count": 8,
   "metadata": {
    "scrolled": true
   },
   "outputs": [
    {
     "data": {
      "text/plain": [
       "array(['No driver has been allocated to my request.',\n",
       "       'My order is not ready.', 'I placed the wrong locations.',\n",
       "       'No Partner', 'Customer error', 'The driver is too far away.',\n",
       "       'Delay', nan], dtype=object)"
      ]
     },
     "execution_count": 8,
     "metadata": {},
     "output_type": "execute_result"
    }
   ],
   "source": [
    "data['Cancel Reason'].unique()"
   ]
  },
  {
   "cell_type": "code",
   "execution_count": 9,
   "metadata": {},
   "outputs": [
    {
     "data": {
      "image/png": "[encoded data removed]",
      "text/plain": [
       "<Figure size 1080x504 with 2 Axes>"
      ]
     },
     "metadata": {},
     "output_type": "display_data"
    }
   ],
   "source": [
    "# Distribution of the target variable\n",
    "fig = plt.figure(figsize=(15, 7))\n",
    "plt.subplot(121)\n",
    "data[data['set'] == \"train\"][\"Cancel Reason\"].value_counts().plot.pie(autopct = \"%1.0f%%\",  colors = sns.color_palette(\"prism\",7),\n",
    "                                                                                    startangle = 60,\n",
    "                                                                                    labels=['No driver has been allocated to my request.',\n",
    "                                                                                            'My order is not ready.', \n",
    "                                                                                            'I placed the wrong locations.',\n",
    "                                                                                            'No Partner', \n",
    "                                                                                            'Customer error', \n",
    "                                                                                            'The driver is too far away.',\n",
    "       'Delay'],\n",
    "                                                                                    wedgeprops={\"linewidth\":2,\"edgecolor\":\"k\"},\n",
    "                                                                                    shadow =True)\n",
    "plt.title(\"Distribution of Cancel Reason\")\n",
    "\n",
    "plt.subplot(122)\n",
    "ax = data[data['set'] == \"train\"][\"Cancel Reason\"].value_counts().plot(kind=\"barh\")\n",
    "\n",
    "for i,j in enumerate(data[data['set'] == \"train\"][\"Cancel Reason\"].value_counts().values):\n",
    "    ax.text(.7,i,j,weight = \"bold\",fontsize=20)\n",
    "\n",
    "plt.title(\"Count of Cancel Reason\")\n",
    "#ax.set_facecolor(\"k\")\n",
    "fig.set_facecolor(\"lightgrey\")\n",
    "plt.show()"
   ]
  },
  {
   "cell_type": "markdown",
   "metadata": {},
   "source": [
    "### 1.4 Percentage of Missing Values"
   ]
  },
  {
   "cell_type": "code",
   "execution_count": 10,
   "metadata": {
    "scrolled": false
   },
   "outputs": [
    {
     "data": {
      "image/png": "[encoded data removed]",
      "text/plain": [
       "<Figure size 864x720 with 4 Axes>"
      ]
     },
     "metadata": {
      "needs_background": "light"
     },
     "output_type": "display_data"
    }
   ],
   "source": [
    "plt.figure(figsize=(12,10))\n",
    "\n",
    "plt.subplot(231)\n",
    "sns.heatmap(pd.DataFrame(train.isnull().sum()/train.shape[0]*100),annot=True,\n",
    "            cmap=sns.color_palette(\"cool\"),linewidth=1,linecolor=\"white\")\n",
    "plt.title(\"Train Data\")\n",
    "\n",
    "plt.subplot(232)\n",
    "sns.heatmap(pd.DataFrame(test.isnull().sum()/test.shape[0]*100),annot=True,\n",
    "            cmap=sns.color_palette(\"cool\"),linewidth=1,linecolor=\"white\")\n",
    "plt.title(\"Test Data\")\n",
    "\n",
    "plt.subplots_adjust(wspace = 1.6)"
   ]
  },
  {
   "cell_type": "markdown",
   "metadata": {},
   "source": [
    "### 1.5 Feature Engineering"
   ]
  },
  {
   "cell_type": "code",
   "execution_count": 11,
   "metadata": {},
   "outputs": [
    {
     "data": {
      "text/html": [
       "<div>\n",
       "<style scoped>\n",
       "    .dataframe tbody tr th:only-of-type {\n",
       "        vertical-align: middle;\n",
       "    }\n",
       "\n",
       "    .dataframe tbody tr th {\n",
       "        vertical-align: top;\n",
       "    }\n",
       "\n",
       "    .dataframe thead th {\n",
       "        text-align: right;\n",
       "    }\n",
       "</style>\n",
       "<table border=\"1\" class=\"dataframe\">\n",
       "  <thead>\n",
       "    <tr style=\"text-align: right;\">\n",
       "      <th></th>\n",
       "      <th>personal_or_business</th>\n",
       "      <th>business_number</th>\n",
       "      <th>vehicle_type</th>\n",
       "      <th>standard_or_express</th>\n",
       "      <th>platform</th>\n",
       "      <th>cancel_reason</th>\n",
       "      <th>cancelled_by</th>\n",
       "      <th>placement_day</th>\n",
       "      <th>placement_time</th>\n",
       "      <th>confirmation_day</th>\n",
       "      <th>confirmation_time</th>\n",
       "      <th>cancellation_day</th>\n",
       "      <th>cancellation_time</th>\n",
       "      <th>distance_(km)</th>\n",
       "      <th>pickup_lat</th>\n",
       "      <th>pickup_long</th>\n",
       "      <th>scheduled</th>\n",
       "      <th>set</th>\n",
       "    </tr>\n",
       "  </thead>\n",
       "  <tbody>\n",
       "    <tr>\n",
       "      <th>0</th>\n",
       "      <td>Personal</td>\n",
       "      <td>NaN</td>\n",
       "      <td>Bike</td>\n",
       "      <td>Express</td>\n",
       "      <td>android</td>\n",
       "      <td>No driver has been allocated to my request.</td>\n",
       "      <td>Customer</td>\n",
       "      <td>1</td>\n",
       "      <td>17:55:38</td>\n",
       "      <td>NaN</td>\n",
       "      <td>NaN</td>\n",
       "      <td>1</td>\n",
       "      <td>17:56:35</td>\n",
       "      <td>9</td>\n",
       "      <td>-1.313053</td>\n",
       "      <td>36.841437</td>\n",
       "      <td>OnDemAND</td>\n",
       "      <td>train</td>\n",
       "    </tr>\n",
       "    <tr>\n",
       "      <th>1</th>\n",
       "      <td>Personal</td>\n",
       "      <td>NaN</td>\n",
       "      <td>Bike</td>\n",
       "      <td>Express</td>\n",
       "      <td>android</td>\n",
       "      <td>My order is not ready.</td>\n",
       "      <td>Customer</td>\n",
       "      <td>1</td>\n",
       "      <td>12:26:27</td>\n",
       "      <td>1.0</td>\n",
       "      <td>12:27:36</td>\n",
       "      <td>1</td>\n",
       "      <td>12:28:44</td>\n",
       "      <td>14</td>\n",
       "      <td>-1.318959</td>\n",
       "      <td>36.853394</td>\n",
       "      <td>OnDemAND</td>\n",
       "      <td>train</td>\n",
       "    </tr>\n",
       "    <tr>\n",
       "      <th>2</th>\n",
       "      <td>Business</td>\n",
       "      <td>20680.0</td>\n",
       "      <td>Bike</td>\n",
       "      <td>Express</td>\n",
       "      <td>android</td>\n",
       "      <td>I placed the wrong locations.</td>\n",
       "      <td>Customer</td>\n",
       "      <td>1</td>\n",
       "      <td>13:21:18</td>\n",
       "      <td>1.0</td>\n",
       "      <td>13:21:34</td>\n",
       "      <td>1</td>\n",
       "      <td>13:47:29</td>\n",
       "      <td>16</td>\n",
       "      <td>-1.313854</td>\n",
       "      <td>36.706867</td>\n",
       "      <td>OnDemAND</td>\n",
       "      <td>train</td>\n",
       "    </tr>\n",
       "  </tbody>\n",
       "</table>\n",
       "</div>"
      ],
      "text/plain": [
       "  personal_or_business  business_number vehicle_type standard_or_express  \\\n",
       "0             Personal              NaN         Bike             Express   \n",
       "1             Personal              NaN         Bike             Express   \n",
       "2             Business          20680.0         Bike             Express   \n",
       "\n",
       "  platform                                cancel_reason cancelled_by  \\\n",
       "0  android  No driver has been allocated to my request.     Customer   \n",
       "1  android                       My order is not ready.     Customer   \n",
       "2  android                I placed the wrong locations.     Customer   \n",
       "\n",
       "   placement_day placement_time  confirmation_day confirmation_time  \\\n",
       "0              1       17:55:38               NaN               NaN   \n",
       "1              1       12:26:27               1.0          12:27:36   \n",
       "2              1       13:21:18               1.0          13:21:34   \n",
       "\n",
       "   cancellation_day cancellation_time  distance_(km)  pickup_lat  pickup_long  \\\n",
       "0                 1          17:56:35              9   -1.313053    36.841437   \n",
       "1                 1          12:28:44             14   -1.318959    36.853394   \n",
       "2                 1          13:47:29             16   -1.313854    36.706867   \n",
       "\n",
       "  scheduled    set  \n",
       "0  OnDemAND  train  \n",
       "1  OnDemAND  train  \n",
       "2  OnDemAND  train  "
      ]
     },
     "metadata": {},
     "output_type": "display_data"
    },
    {
     "data": {
      "text/plain": [
       "personal_or_business     object\n",
       "business_number         float64\n",
       "vehicle_type             object\n",
       "standard_or_express      object\n",
       "platform                 object\n",
       "cancel_reason            object\n",
       "cancelled_by             object\n",
       "placement_day             int64\n",
       "placement_time           object\n",
       "confirmation_day        float64\n",
       "confirmation_time        object\n",
       "cancellation_day          int64\n",
       "cancellation_time        object\n",
       "distance_(km)             int64\n",
       "pickup_lat              float64\n",
       "pickup_long             float64\n",
       "scheduled                object\n",
       "set                      object\n",
       "dtype: object"
      ]
     },
     "metadata": {},
     "output_type": "display_data"
    }
   ],
   "source": [
    "#renaming columns\n",
    "data.columns = data.columns.str.strip().str.lower().str.replace(' ','_')\n",
    "#\n",
    "#drop duplicated values in the whole data set\n",
    "data.drop_duplicates(subset=data.columns, keep='last', inplace=True)\n",
    "#\n",
    "display(data.head(3))\n",
    "display(data.dtypes)"
   ]
  },
  {
   "cell_type": "code",
   "execution_count": 12,
   "metadata": {},
   "outputs": [
    {
     "data": {
      "text/plain": [
       "Index(['personal_or_business', 'business_number', 'vehicle_type',\n",
       "       'standard_or_express', 'platform', 'cancel_reason', 'cancelled_by',\n",
       "       'placement_day', 'placement_time', 'confirmation_day',\n",
       "       'confirmation_time', 'cancellation_day', 'cancellation_time',\n",
       "       'distance_(km)', 'pickup_lat', 'pickup_long', 'scheduled', 'set'],\n",
       "      dtype='object')"
      ]
     },
     "execution_count": 12,
     "metadata": {},
     "output_type": "execute_result"
    }
   ],
   "source": [
    "data.columns"
   ]
  },
  {
   "cell_type": "code",
   "execution_count": 13,
   "metadata": {},
   "outputs": [],
   "source": [
    "#\n",
    "data[['placement_day', 'cancellation_day']] = data[['placement_day', \n",
    "                                                    'cancellation_day']].replace({1 : 0, 2 : 1, 3 : 2, 4 : 3, 5 : 4, 6 : 5, 7 : 6}).astype(int)"
   ]
  },
  {
   "cell_type": "markdown",
   "metadata": {},
   "source": [
    "**Placement Time**"
   ]
  },
  {
   "cell_type": "code",
   "execution_count": 14,
   "metadata": {
    "scrolled": true
   },
   "outputs": [],
   "source": [
    "#split the time to extract column/variables for hours, minutes and seconds\n",
    "data[['placement_hours', 'placement_minutes', 'placement_seconds']] = data['placement_time'].astype(str).str.split(':', expand=True).astype(int)"
   ]
  },
  {
   "cell_type": "markdown",
   "metadata": {},
   "source": [
    "**Cancellation Time**"
   ]
  },
  {
   "cell_type": "code",
   "execution_count": 15,
   "metadata": {},
   "outputs": [],
   "source": [
    "#split the time to extract column/variables for hours, minutes and seconds\n",
    "data[['cancellation_hours', 'cancellation_minutes', 'cancellation_seconds']] = data['cancellation_time'].astype(str).str.split(':', expand=True).astype(int)"
   ]
  },
  {
   "cell_type": "markdown",
   "metadata": {},
   "source": [
    "### 1.6 Numerical Variables/Columns"
   ]
  },
  {
   "cell_type": "markdown",
   "metadata": {},
   "source": [
    "### Detect and Treat Outliers"
   ]
  },
  {
   "cell_type": "code",
   "execution_count": 16,
   "metadata": {},
   "outputs": [],
   "source": [
    "#define a function for treating outliers\n",
    "def treat_outlier(df, col):\n",
    "    Q1 = df[col].quantile(0.25)\n",
    "    Q3 = df[col].quantile(0.75)\n",
    "    IQR = Q3 - Q1\n",
    "    print('First quantile: ', Q1)\n",
    "    print('Third quantile: ', Q3)\n",
    "    print('IQR: ', IQR)\n",
    "    lower_bound = Q1 - 1.5*IQR\n",
    "    upper_bound = Q3 + 1.5*IQR\n",
    "    print('Lower bound: ', lower_bound, 'Upper bound: ', upper_bound)"
   ]
  },
  {
   "cell_type": "code",
   "execution_count": 17,
   "metadata": {},
   "outputs": [
    {
     "data": {
      "image/png": "[encoded data removed]",
      "text/plain": [
       "<Figure size 1152x864 with 10 Axes>"
      ]
     },
     "metadata": {
      "needs_background": "light"
     },
     "output_type": "display_data"
    }
   ],
   "source": [
    "#checking for outliers using box plot\n",
    "col_names = ['placement_day', 'confirmation_day', 'cancellation_day', 'distance_(km)', 'placement_hours', \n",
    "             'placement_minutes', 'placement_seconds', \n",
    "             'cancellation_hours', 'cancellation_minutes', 'cancellation_seconds']\n",
    "fig, ax=plt.subplots(len(col_names), figsize=(16,12))\n",
    "for i, col_val in enumerate(col_names):\n",
    "    sns.boxplot(data[col_val], notch= True, ax=ax[i])\n",
    "    ax[i].set_title ('box plot-'+ col_val, fontsize= 15)\n",
    "    ax[i].set_xlabel(col_val, fontsize= 12)\n",
    "    ax[i].set_ylabel('Number', fontsize= 12)\n",
    "\n",
    "plt.show()  "
   ]
  },
  {
   "cell_type": "markdown",
   "metadata": {},
   "source": [
    "From the box plots above we find that **placement hours, placement minutes, cancellation minutes** have outliers and so the objective to normalize the numerical variables to optimum."
   ]
  },
  {
   "cell_type": "markdown",
   "metadata": {},
   "source": [
    "**Remove outliers.**"
   ]
  },
  {
   "cell_type": "code",
   "execution_count": 18,
   "metadata": {},
   "outputs": [
    {
     "name": "stdout",
     "output_type": "stream",
     "text": [
      "First quantile:  10.0\n",
      "Third quantile:  15.0\n",
      "IQR:  5.0\n",
      "Lower bound:  2.5 Upper bound:  22.5\n"
     ]
    }
   ],
   "source": [
    "#placement hours\n",
    "treat_outlier(data, 'placement_hours')"
   ]
  },
  {
   "cell_type": "code",
   "execution_count": 19,
   "metadata": {},
   "outputs": [],
   "source": [
    "data = data[(data['placement_hours'] > 2.5) & (data['placement_hours'] < 22.5)]"
   ]
  },
  {
   "cell_type": "code",
   "execution_count": 20,
   "metadata": {},
   "outputs": [
    {
     "name": "stdout",
     "output_type": "stream",
     "text": [
      "First quantile:  15.0\n",
      "Third quantile:  45.0\n",
      "IQR:  30.0\n",
      "Lower bound:  -30.0 Upper bound:  90.0\n"
     ]
    }
   ],
   "source": [
    "#placement minutes\n",
    "treat_outlier(data, 'placement_minutes')"
   ]
  },
  {
   "cell_type": "code",
   "execution_count": 21,
   "metadata": {},
   "outputs": [],
   "source": [
    "data = data[(data['placement_minutes'] > -30.0) & (data['placement_minutes'] < 90)]"
   ]
  },
  {
   "cell_type": "code",
   "execution_count": 22,
   "metadata": {},
   "outputs": [
    {
     "name": "stdout",
     "output_type": "stream",
     "text": [
      "First quantile:  13.0\n",
      "Third quantile:  44.0\n",
      "IQR:  31.0\n",
      "Lower bound:  -33.5 Upper bound:  90.5\n"
     ]
    }
   ],
   "source": [
    "#cancellation minutes\n",
    "treat_outlier(data, 'cancellation_minutes')"
   ]
  },
  {
   "cell_type": "code",
   "execution_count": 23,
   "metadata": {},
   "outputs": [],
   "source": [
    "data = data[(data['cancellation_minutes'] > -33.5) & (data['cancellation_minutes'] < 90.5)]"
   ]
  },
  {
   "cell_type": "markdown",
   "metadata": {},
   "source": [
    "### 1.7 Categorical Variable/Columns"
   ]
  },
  {
   "cell_type": "markdown",
   "metadata": {},
   "source": [
    "### 1.7.1 Dummify the variables/columns, split, and export to csv"
   ]
  },
  {
   "cell_type": "code",
   "execution_count": 24,
   "metadata": {
    "scrolled": false
   },
   "outputs": [
    {
     "data": {
      "text/html": [
       "<div>\n",
       "<style scoped>\n",
       "    .dataframe tbody tr th:only-of-type {\n",
       "        vertical-align: middle;\n",
       "    }\n",
       "\n",
       "    .dataframe tbody tr th {\n",
       "        vertical-align: top;\n",
       "    }\n",
       "\n",
       "    .dataframe thead th {\n",
       "        text-align: right;\n",
       "    }\n",
       "</style>\n",
       "<table border=\"1\" class=\"dataframe\">\n",
       "  <thead>\n",
       "    <tr style=\"text-align: right;\">\n",
       "      <th></th>\n",
       "      <th>target</th>\n",
       "      <th>placement_day</th>\n",
       "      <th>cancellation_day</th>\n",
       "      <th>distance_(km)</th>\n",
       "      <th>set</th>\n",
       "      <th>placement_hours</th>\n",
       "      <th>placement_minutes</th>\n",
       "      <th>placement_seconds</th>\n",
       "      <th>cancellation_hours</th>\n",
       "      <th>cancellation_minutes</th>\n",
       "      <th>cancellation_seconds</th>\n",
       "      <th>personal_or_business_Personal</th>\n",
       "      <th>personal_or_business_nan</th>\n",
       "      <th>vehicle_type_Standard Bike</th>\n",
       "      <th>vehicle_type_nan</th>\n",
       "      <th>standard_or_express_Standard</th>\n",
       "      <th>standard_or_express_nan</th>\n",
       "      <th>platform_android</th>\n",
       "      <th>platform_desktop</th>\n",
       "      <th>platform_ios</th>\n",
       "      <th>platform_peer_web</th>\n",
       "      <th>platform_nan</th>\n",
       "      <th>cancelled_by_Staff</th>\n",
       "      <th>cancelled_by_nan</th>\n",
       "      <th>scheduled_Scheduled</th>\n",
       "      <th>scheduled_nan</th>\n",
       "    </tr>\n",
       "  </thead>\n",
       "  <tbody>\n",
       "    <tr>\n",
       "      <th>0</th>\n",
       "      <td>0.0</td>\n",
       "      <td>0</td>\n",
       "      <td>0</td>\n",
       "      <td>9</td>\n",
       "      <td>train</td>\n",
       "      <td>17</td>\n",
       "      <td>55</td>\n",
       "      <td>38</td>\n",
       "      <td>17</td>\n",
       "      <td>56</td>\n",
       "      <td>35</td>\n",
       "      <td>1</td>\n",
       "      <td>0</td>\n",
       "      <td>0</td>\n",
       "      <td>0</td>\n",
       "      <td>0</td>\n",
       "      <td>0</td>\n",
       "      <td>1</td>\n",
       "      <td>0</td>\n",
       "      <td>0</td>\n",
       "      <td>0</td>\n",
       "      <td>0</td>\n",
       "      <td>0</td>\n",
       "      <td>0</td>\n",
       "      <td>0</td>\n",
       "      <td>0</td>\n",
       "    </tr>\n",
       "    <tr>\n",
       "      <th>1</th>\n",
       "      <td>1.0</td>\n",
       "      <td>0</td>\n",
       "      <td>0</td>\n",
       "      <td>14</td>\n",
       "      <td>train</td>\n",
       "      <td>12</td>\n",
       "      <td>26</td>\n",
       "      <td>27</td>\n",
       "      <td>12</td>\n",
       "      <td>28</td>\n",
       "      <td>44</td>\n",
       "      <td>1</td>\n",
       "      <td>0</td>\n",
       "      <td>0</td>\n",
       "      <td>0</td>\n",
       "      <td>0</td>\n",
       "      <td>0</td>\n",
       "      <td>1</td>\n",
       "      <td>0</td>\n",
       "      <td>0</td>\n",
       "      <td>0</td>\n",
       "      <td>0</td>\n",
       "      <td>0</td>\n",
       "      <td>0</td>\n",
       "      <td>0</td>\n",
       "      <td>0</td>\n",
       "    </tr>\n",
       "    <tr>\n",
       "      <th>2</th>\n",
       "      <td>2.0</td>\n",
       "      <td>0</td>\n",
       "      <td>0</td>\n",
       "      <td>16</td>\n",
       "      <td>train</td>\n",
       "      <td>13</td>\n",
       "      <td>21</td>\n",
       "      <td>18</td>\n",
       "      <td>13</td>\n",
       "      <td>47</td>\n",
       "      <td>29</td>\n",
       "      <td>0</td>\n",
       "      <td>0</td>\n",
       "      <td>0</td>\n",
       "      <td>0</td>\n",
       "      <td>0</td>\n",
       "      <td>0</td>\n",
       "      <td>1</td>\n",
       "      <td>0</td>\n",
       "      <td>0</td>\n",
       "      <td>0</td>\n",
       "      <td>0</td>\n",
       "      <td>0</td>\n",
       "      <td>0</td>\n",
       "      <td>0</td>\n",
       "      <td>0</td>\n",
       "    </tr>\n",
       "  </tbody>\n",
       "</table>\n",
       "</div>"
      ],
      "text/plain": [
       "   target  placement_day  cancellation_day  distance_(km)    set  \\\n",
       "0     0.0              0                 0              9  train   \n",
       "1     1.0              0                 0             14  train   \n",
       "2     2.0              0                 0             16  train   \n",
       "\n",
       "   placement_hours  placement_minutes  placement_seconds  cancellation_hours  \\\n",
       "0               17                 55                 38                  17   \n",
       "1               12                 26                 27                  12   \n",
       "2               13                 21                 18                  13   \n",
       "\n",
       "   cancellation_minutes  cancellation_seconds  personal_or_business_Personal  \\\n",
       "0                    56                    35                              1   \n",
       "1                    28                    44                              1   \n",
       "2                    47                    29                              0   \n",
       "\n",
       "   personal_or_business_nan  vehicle_type_Standard Bike  vehicle_type_nan  \\\n",
       "0                         0                           0                 0   \n",
       "1                         0                           0                 0   \n",
       "2                         0                           0                 0   \n",
       "\n",
       "   standard_or_express_Standard  standard_or_express_nan  platform_android  \\\n",
       "0                             0                        0                 1   \n",
       "1                             0                        0                 1   \n",
       "2                             0                        0                 1   \n",
       "\n",
       "   platform_desktop  platform_ios  platform_peer_web  platform_nan  \\\n",
       "0                 0             0                  0             0   \n",
       "1                 0             0                  0             0   \n",
       "2                 0             0                  0             0   \n",
       "\n",
       "   cancelled_by_Staff  cancelled_by_nan  scheduled_Scheduled  scheduled_nan  \n",
       "0                   0                 0                    0              0  \n",
       "1                   0                 0                    0              0  \n",
       "2                   0                 0                    0              0  "
      ]
     },
     "metadata": {},
     "output_type": "display_data"
    }
   ],
   "source": [
    "#Dummify the variables\n",
    "data = pd.get_dummies(data, dummy_na=True, \n",
    "                      columns=['personal_or_business', \n",
    "                               'vehicle_type', \n",
    "                               'standard_or_express', \n",
    "                               'platform', \n",
    "                               'cancelled_by',\n",
    "                               'scheduled'], \n",
    "                      drop_first=True, \n",
    "                      prefix=['personal_or_business', \n",
    "                               'vehicle_type', \n",
    "                               'standard_or_express', \n",
    "                               'platform', \n",
    "                               'cancelled_by',\n",
    "                               'scheduled'])\n",
    "#\n",
    "#rename cancellation reason as well as map the values to be one hot encoded\n",
    "data.rename(columns={'cancel_reason': 'target'}, inplace=True)\n",
    "data['target'] = data['target'].replace({'No driver has been allocated to my request.': 0,\n",
    "                                         'My order is not ready.': 1, \n",
    "                                         'I placed the wrong locations.': 2,\n",
    "                                         'No Partner': 3, \n",
    "                                         'Customer error': 4, \n",
    "                                         'The driver is too far away.': 5,\n",
    "                                         'Delay': 6})\n",
    "#\n",
    "#remove some columns\n",
    "columns = ['business_number', 'placement_time', 'confirmation_time', 'cancellation_time','confirmation_day', \n",
    "           'pickup_lat', 'pickup_long']\n",
    "data.drop(columns, inplace=True, axis=1)\n",
    "display(data.head(3))"
   ]
  },
  {
   "cell_type": "code",
   "execution_count": 25,
   "metadata": {},
   "outputs": [],
   "source": [
    "# encode the integer columns by their frequency \n",
    "int_col=['placement_day','cancellation_day','placement_hours', 'placement_minutes', 'placement_seconds', \n",
    "         'cancellation_hours', 'cancellation_minutes', 'cancellation_seconds']\n",
    "for col in int_col:\n",
    "    freq = data[col].value_counts().to_dict()\n",
    "    data[col + '_freq_encode'] = data[col].map(freq)"
   ]
  },
  {
   "cell_type": "code",
   "execution_count": 26,
   "metadata": {},
   "outputs": [],
   "source": [
    "#split the dataframe\n",
    "train = data[data['set'] == 'train']\n",
    "test = data[data['set'] == 'test']"
   ]
  },
  {
   "cell_type": "code",
   "execution_count": 27,
   "metadata": {},
   "outputs": [],
   "source": [
    "#drop the set column and reset the index\n",
    "train.drop(['set'], inplace=True, axis=1)\n",
    "train.reset_index(drop = True, inplace=True)\n",
    "test.drop(['target', 'set'], inplace=True, axis=1)\n",
    "test.reset_index(drop = True, inplace=True)"
   ]
  },
  {
   "cell_type": "code",
   "execution_count": 28,
   "metadata": {},
   "outputs": [],
   "source": [
    "#write to csv for variable and model selection \n",
    "train.to_csv('train_clean.csv', index=False)\n",
    "test.to_csv('test_clean.csv', index=False)"
   ]
  },
  {
   "cell_type": "code",
   "execution_count": 29,
   "metadata": {},
   "outputs": [],
   "source": [
    "###################################################################################################"
   ]
  },
  {
   "cell_type": "markdown",
   "metadata": {},
   "source": [
    "## 2. Model Selection and Variable importance"
   ]
  },
  {
   "cell_type": "markdown",
   "metadata": {},
   "source": [
    "### 2.1 Load the cleaned datasets"
   ]
  },
  {
   "cell_type": "code",
   "execution_count": 30,
   "metadata": {},
   "outputs": [
    {
     "name": "stdout",
     "output_type": "stream",
     "text": [
      "Train data shape: 6297 Rows, 33 Columns\n",
      "Test data shape: 324 Rows, 32 Columns\n"
     ]
    }
   ],
   "source": [
    "#import the cleaned datasets\n",
    "train = pd.read_csv('train_clean.csv')\n",
    "test = pd.read_csv('test_clean.csv')\n",
    "#\n",
    "# Check The Shape Of The Data Loaded\n",
    "print('Train data shape: {} Rows, {} Columns'.format(*train.shape))\n",
    "print('Test data shape: {} Rows, {} Columns'.format(*test.shape))"
   ]
  },
  {
   "cell_type": "markdown",
   "metadata": {},
   "source": [
    "### 2.2 Feature Importance\n",
    "We implement our own recurcive feature elimination method"
   ]
  },
  {
   "cell_type": "code",
   "execution_count": 31,
   "metadata": {},
   "outputs": [],
   "source": [
    "# modelling \n",
    "import lightgbm as lgb\n",
    "#\n",
    "# utilities\n",
    "from sklearn.model_selection import train_test_split\n",
    "from sklearn.model_selection import KFold\n",
    "from sklearn.metrics import roc_auc_score\n",
    "from sklearn.preprocessing import LabelEncoder"
   ]
  },
  {
   "cell_type": "code",
   "execution_count": 32,
   "metadata": {
    "scrolled": true
   },
   "outputs": [
    {
     "data": {
      "text/html": [
       "<div>\n",
       "<style scoped>\n",
       "    .dataframe tbody tr th:only-of-type {\n",
       "        vertical-align: middle;\n",
       "    }\n",
       "\n",
       "    .dataframe tbody tr th {\n",
       "        vertical-align: top;\n",
       "    }\n",
       "\n",
       "    .dataframe thead th {\n",
       "        text-align: right;\n",
       "    }\n",
       "</style>\n",
       "<table border=\"1\" class=\"dataframe\">\n",
       "  <thead>\n",
       "    <tr style=\"text-align: right;\">\n",
       "      <th></th>\n",
       "      <th>placement_day</th>\n",
       "      <th>cancellation_day</th>\n",
       "      <th>distance_(km)</th>\n",
       "      <th>placement_hours</th>\n",
       "      <th>placement_minutes</th>\n",
       "      <th>placement_seconds</th>\n",
       "      <th>cancellation_hours</th>\n",
       "      <th>cancellation_minutes</th>\n",
       "      <th>cancellation_seconds</th>\n",
       "      <th>personal_or_business_Personal</th>\n",
       "      <th>personal_or_business_nan</th>\n",
       "      <th>vehicle_type_Standard Bike</th>\n",
       "      <th>vehicle_type_nan</th>\n",
       "      <th>standard_or_express_Standard</th>\n",
       "      <th>standard_or_express_nan</th>\n",
       "      <th>platform_android</th>\n",
       "      <th>platform_desktop</th>\n",
       "      <th>platform_ios</th>\n",
       "      <th>platform_peer_web</th>\n",
       "      <th>platform_nan</th>\n",
       "      <th>cancelled_by_Staff</th>\n",
       "      <th>cancelled_by_nan</th>\n",
       "      <th>scheduled_Scheduled</th>\n",
       "      <th>scheduled_nan</th>\n",
       "      <th>placement_day_freq_encode</th>\n",
       "      <th>cancellation_day_freq_encode</th>\n",
       "      <th>placement_hours_freq_encode</th>\n",
       "      <th>placement_minutes_freq_encode</th>\n",
       "      <th>placement_seconds_freq_encode</th>\n",
       "      <th>cancellation_hours_freq_encode</th>\n",
       "      <th>cancellation_minutes_freq_encode</th>\n",
       "      <th>cancellation_seconds_freq_encode</th>\n",
       "    </tr>\n",
       "  </thead>\n",
       "  <tbody>\n",
       "    <tr>\n",
       "      <th>0</th>\n",
       "      <td>0</td>\n",
       "      <td>0</td>\n",
       "      <td>9</td>\n",
       "      <td>17</td>\n",
       "      <td>55</td>\n",
       "      <td>38</td>\n",
       "      <td>17</td>\n",
       "      <td>56</td>\n",
       "      <td>35</td>\n",
       "      <td>1</td>\n",
       "      <td>0</td>\n",
       "      <td>0</td>\n",
       "      <td>0</td>\n",
       "      <td>0</td>\n",
       "      <td>0</td>\n",
       "      <td>1</td>\n",
       "      <td>0</td>\n",
       "      <td>0</td>\n",
       "      <td>0</td>\n",
       "      <td>0</td>\n",
       "      <td>0</td>\n",
       "      <td>0</td>\n",
       "      <td>0</td>\n",
       "      <td>0</td>\n",
       "      <td>985</td>\n",
       "      <td>917</td>\n",
       "      <td>345</td>\n",
       "      <td>101</td>\n",
       "      <td>137</td>\n",
       "      <td>436</td>\n",
       "      <td>100</td>\n",
       "      <td>94</td>\n",
       "    </tr>\n",
       "    <tr>\n",
       "      <th>1</th>\n",
       "      <td>0</td>\n",
       "      <td>0</td>\n",
       "      <td>14</td>\n",
       "      <td>12</td>\n",
       "      <td>26</td>\n",
       "      <td>27</td>\n",
       "      <td>12</td>\n",
       "      <td>28</td>\n",
       "      <td>44</td>\n",
       "      <td>1</td>\n",
       "      <td>0</td>\n",
       "      <td>0</td>\n",
       "      <td>0</td>\n",
       "      <td>0</td>\n",
       "      <td>0</td>\n",
       "      <td>1</td>\n",
       "      <td>0</td>\n",
       "      <td>0</td>\n",
       "      <td>0</td>\n",
       "      <td>0</td>\n",
       "      <td>0</td>\n",
       "      <td>0</td>\n",
       "      <td>0</td>\n",
       "      <td>0</td>\n",
       "      <td>985</td>\n",
       "      <td>917</td>\n",
       "      <td>686</td>\n",
       "      <td>101</td>\n",
       "      <td>112</td>\n",
       "      <td>658</td>\n",
       "      <td>111</td>\n",
       "      <td>128</td>\n",
       "    </tr>\n",
       "  </tbody>\n",
       "</table>\n",
       "</div>"
      ],
      "text/plain": [
       "   placement_day  cancellation_day  distance_(km)  placement_hours  \\\n",
       "0              0                 0              9               17   \n",
       "1              0                 0             14               12   \n",
       "\n",
       "   placement_minutes  placement_seconds  cancellation_hours  \\\n",
       "0                 55                 38                  17   \n",
       "1                 26                 27                  12   \n",
       "\n",
       "   cancellation_minutes  cancellation_seconds  personal_or_business_Personal  \\\n",
       "0                    56                    35                              1   \n",
       "1                    28                    44                              1   \n",
       "\n",
       "   personal_or_business_nan  vehicle_type_Standard Bike  vehicle_type_nan  \\\n",
       "0                         0                           0                 0   \n",
       "1                         0                           0                 0   \n",
       "\n",
       "   standard_or_express_Standard  standard_or_express_nan  platform_android  \\\n",
       "0                             0                        0                 1   \n",
       "1                             0                        0                 1   \n",
       "\n",
       "   platform_desktop  platform_ios  platform_peer_web  platform_nan  \\\n",
       "0                 0             0                  0             0   \n",
       "1                 0             0                  0             0   \n",
       "\n",
       "   cancelled_by_Staff  cancelled_by_nan  scheduled_Scheduled  scheduled_nan  \\\n",
       "0                   0                 0                    0              0   \n",
       "1                   0                 0                    0              0   \n",
       "\n",
       "   placement_day_freq_encode  cancellation_day_freq_encode  \\\n",
       "0                        985                           917   \n",
       "1                        985                           917   \n",
       "\n",
       "   placement_hours_freq_encode  placement_minutes_freq_encode  \\\n",
       "0                          345                            101   \n",
       "1                          686                            101   \n",
       "\n",
       "   placement_seconds_freq_encode  cancellation_hours_freq_encode  \\\n",
       "0                            137                             436   \n",
       "1                            112                             658   \n",
       "\n",
       "   cancellation_minutes_freq_encode  cancellation_seconds_freq_encode  \n",
       "0                               100                                94  \n",
       "1                               111                               128  "
      ]
     },
     "metadata": {},
     "output_type": "display_data"
    }
   ],
   "source": [
    "y = train[['target']].astype(int)\n",
    "#label encode to convet to a multiclass variable\n",
    "lab_enc = LabelEncoder()\n",
    "y = lab_enc.fit_transform(y)\n",
    "#\n",
    "X = train.drop(['target'], axis=1)\n",
    "display(X.head(2))"
   ]
  },
  {
   "cell_type": "code",
   "execution_count": 33,
   "metadata": {
    "scrolled": false
   },
   "outputs": [
    {
     "data": {
      "text/plain": [
       "(6297,)"
      ]
     },
     "metadata": {},
     "output_type": "display_data"
    },
    {
     "data": {
      "text/plain": [
       "(6297, 32)"
      ]
     },
     "metadata": {},
     "output_type": "display_data"
    }
   ],
   "source": [
    "display(y.shape)\n",
    "display(X.shape)"
   ]
  },
  {
   "cell_type": "code",
   "execution_count": 34,
   "metadata": {},
   "outputs": [],
   "source": [
    "# Create the model with several hyperparameters\n",
    "model = lgb.LGBMClassifier(objective='multiclass', \n",
    "                           boosting_type = 'goss', \n",
    "                           n_estimators = 10000, \n",
    "                           class_weight = 'balanced')"
   ]
  },
  {
   "cell_type": "code",
   "execution_count": 35,
   "metadata": {},
   "outputs": [],
   "source": [
    "train_columns = ['placement_day', 'cancellation_day', 'distance_(km)', 'placement_hours',\n",
    "       'placement_minutes', 'placement_seconds', 'cancellation_hours',\n",
    "       'cancellation_minutes', 'cancellation_seconds',\n",
    "       'personal_or_business_Personal', 'personal_or_business_nan',\n",
    "       'vehicle_type_Standard Bike', 'vehicle_type_nan',\n",
    "       'standard_or_express_Standard', 'standard_or_express_nan',\n",
    "       'platform_android', 'platform_desktop', 'platform_ios',\n",
    "       'platform_peer_web', 'platform_nan', 'cancelled_by_Staff',\n",
    "       'cancelled_by_nan', 'scheduled_Scheduled', 'scheduled_nan',\n",
    "       'placement_day_freq_encode', 'cancellation_day_freq_encode',\n",
    "       'placement_hours_freq_encode', 'placement_minutes_freq_encode',\n",
    "       'placement_seconds_freq_encode', 'cancellation_hours_freq_encode',\n",
    "       'cancellation_minutes_freq_encode', 'cancellation_seconds_freq_encode']"
   ]
  },
  {
   "cell_type": "code",
   "execution_count": 36,
   "metadata": {},
   "outputs": [
    {
     "data": {
      "text/plain": [
       "LGBMClassifier(boosting_type='goss', class_weight='balanced',\n",
       "               n_estimators=10000, objective='multiclass')"
      ]
     },
     "execution_count": 36,
     "metadata": {},
     "output_type": "execute_result"
    }
   ],
   "source": [
    "# Split into training and validation set\n",
    "train_features, valid_features, train_y, valid_y = train_test_split(X, y, test_size = 0.3, random_state = 27)\n",
    "# Train using early stopping\n",
    "model.fit(train_features, train_y, \n",
    "          eval_metric = 'logloss', \n",
    "          verbose = 200)"
   ]
  },
  {
   "cell_type": "markdown",
   "metadata": {},
   "source": [
    "### 2.2.1 Feature importance percentages"
   ]
  },
  {
   "cell_type": "code",
   "execution_count": 37,
   "metadata": {},
   "outputs": [],
   "source": [
    "#define a function to create variable importance dataframe\n",
    "def get_lgbm_varimp(model, train_columns, max_vars=50):\n",
    "    \n",
    "    # Scikit-learn API LGBMClassifier or LGBMRegressor was fitted, \n",
    "    # so using feature_importances_ property\n",
    "    feature_importances_perc = (model.feature_importances_ / sum(model.feature_importances_)) * 100\n",
    "    cv_varimp_df = pd.DataFrame([train_columns, feature_importances_perc]).T\n",
    "\n",
    "    cv_varimp_df.columns = ['feature_name', 'varimp']\n",
    "\n",
    "    cv_varimp_df.sort_values(by='varimp', ascending=False, inplace=True)\n",
    "\n",
    "    cv_varimp_df = cv_varimp_df.iloc[0:max_vars]   \n",
    "\n",
    "    return cv_varimp_df"
   ]
  },
  {
   "cell_type": "code",
   "execution_count": 38,
   "metadata": {},
   "outputs": [
    {
     "data": {
      "text/html": [
       "<div>\n",
       "<style scoped>\n",
       "    .dataframe tbody tr th:only-of-type {\n",
       "        vertical-align: middle;\n",
       "    }\n",
       "\n",
       "    .dataframe tbody tr th {\n",
       "        vertical-align: top;\n",
       "    }\n",
       "\n",
       "    .dataframe thead th {\n",
       "        text-align: right;\n",
       "    }\n",
       "</style>\n",
       "<table border=\"1\" class=\"dataframe\">\n",
       "  <thead>\n",
       "    <tr style=\"text-align: right;\">\n",
       "      <th></th>\n",
       "      <th>feature_name</th>\n",
       "      <th>varimp</th>\n",
       "    </tr>\n",
       "  </thead>\n",
       "  <tbody>\n",
       "    <tr>\n",
       "      <th>8</th>\n",
       "      <td>cancellation_seconds</td>\n",
       "      <td>9.249</td>\n",
       "    </tr>\n",
       "    <tr>\n",
       "      <th>5</th>\n",
       "      <td>placement_seconds</td>\n",
       "      <td>9.13709</td>\n",
       "    </tr>\n",
       "    <tr>\n",
       "      <th>7</th>\n",
       "      <td>cancellation_minutes</td>\n",
       "      <td>8.9041</td>\n",
       "    </tr>\n",
       "    <tr>\n",
       "      <th>4</th>\n",
       "      <td>placement_minutes</td>\n",
       "      <td>8.76853</td>\n",
       "    </tr>\n",
       "    <tr>\n",
       "      <th>2</th>\n",
       "      <td>distance_(km)</td>\n",
       "      <td>7.80962</td>\n",
       "    </tr>\n",
       "    <tr>\n",
       "      <th>28</th>\n",
       "      <td>placement_seconds_freq_encode</td>\n",
       "      <td>7.43522</td>\n",
       "    </tr>\n",
       "    <tr>\n",
       "      <th>31</th>\n",
       "      <td>cancellation_seconds_freq_encode</td>\n",
       "      <td>7.42428</td>\n",
       "    </tr>\n",
       "    <tr>\n",
       "      <th>27</th>\n",
       "      <td>placement_minutes_freq_encode</td>\n",
       "      <td>7.37087</td>\n",
       "    </tr>\n",
       "    <tr>\n",
       "      <th>30</th>\n",
       "      <td>cancellation_minutes_freq_encode</td>\n",
       "      <td>7.09235</td>\n",
       "    </tr>\n",
       "    <tr>\n",
       "      <th>26</th>\n",
       "      <td>placement_hours_freq_encode</td>\n",
       "      <td>3.97272</td>\n",
       "    </tr>\n",
       "    <tr>\n",
       "      <th>29</th>\n",
       "      <td>cancellation_hours_freq_encode</td>\n",
       "      <td>3.86157</td>\n",
       "    </tr>\n",
       "    <tr>\n",
       "      <th>6</th>\n",
       "      <td>cancellation_hours</td>\n",
       "      <td>3.50166</td>\n",
       "    </tr>\n",
       "    <tr>\n",
       "      <th>3</th>\n",
       "      <td>placement_hours</td>\n",
       "      <td>3.39712</td>\n",
       "    </tr>\n",
       "    <tr>\n",
       "      <th>24</th>\n",
       "      <td>placement_day_freq_encode</td>\n",
       "      <td>2.00557</td>\n",
       "    </tr>\n",
       "    <tr>\n",
       "      <th>0</th>\n",
       "      <td>placement_day</td>\n",
       "      <td>2.00378</td>\n",
       "    </tr>\n",
       "    <tr>\n",
       "      <th>25</th>\n",
       "      <td>cancellation_day_freq_encode</td>\n",
       "      <td>1.87508</td>\n",
       "    </tr>\n",
       "    <tr>\n",
       "      <th>1</th>\n",
       "      <td>cancellation_day</td>\n",
       "      <td>1.36638</td>\n",
       "    </tr>\n",
       "    <tr>\n",
       "      <th>13</th>\n",
       "      <td>standard_or_express_Standard</td>\n",
       "      <td>1.18172</td>\n",
       "    </tr>\n",
       "    <tr>\n",
       "      <th>9</th>\n",
       "      <td>personal_or_business_Personal</td>\n",
       "      <td>1.08557</td>\n",
       "    </tr>\n",
       "    <tr>\n",
       "      <th>15</th>\n",
       "      <td>platform_android</td>\n",
       "      <td>0.986631</td>\n",
       "    </tr>\n",
       "    <tr>\n",
       "      <th>16</th>\n",
       "      <td>platform_desktop</td>\n",
       "      <td>0.958653</td>\n",
       "    </tr>\n",
       "    <tr>\n",
       "      <th>17</th>\n",
       "      <td>platform_ios</td>\n",
       "      <td>0.344647</td>\n",
       "    </tr>\n",
       "    <tr>\n",
       "      <th>20</th>\n",
       "      <td>cancelled_by_Staff</td>\n",
       "      <td>0.166092</td>\n",
       "    </tr>\n",
       "    <tr>\n",
       "      <th>22</th>\n",
       "      <td>scheduled_Scheduled</td>\n",
       "      <td>0.101741</td>\n",
       "    </tr>\n",
       "    <tr>\n",
       "      <th>21</th>\n",
       "      <td>cancelled_by_nan</td>\n",
       "      <td>0</td>\n",
       "    </tr>\n",
       "    <tr>\n",
       "      <th>14</th>\n",
       "      <td>standard_or_express_nan</td>\n",
       "      <td>0</td>\n",
       "    </tr>\n",
       "    <tr>\n",
       "      <th>19</th>\n",
       "      <td>platform_nan</td>\n",
       "      <td>0</td>\n",
       "    </tr>\n",
       "    <tr>\n",
       "      <th>18</th>\n",
       "      <td>platform_peer_web</td>\n",
       "      <td>0</td>\n",
       "    </tr>\n",
       "    <tr>\n",
       "      <th>12</th>\n",
       "      <td>vehicle_type_nan</td>\n",
       "      <td>0</td>\n",
       "    </tr>\n",
       "    <tr>\n",
       "      <th>11</th>\n",
       "      <td>vehicle_type_Standard Bike</td>\n",
       "      <td>0</td>\n",
       "    </tr>\n",
       "    <tr>\n",
       "      <th>10</th>\n",
       "      <td>personal_or_business_nan</td>\n",
       "      <td>0</td>\n",
       "    </tr>\n",
       "    <tr>\n",
       "      <th>23</th>\n",
       "      <td>scheduled_nan</td>\n",
       "      <td>0</td>\n",
       "    </tr>\n",
       "  </tbody>\n",
       "</table>\n",
       "</div>"
      ],
      "text/plain": [
       "                        feature_name    varimp\n",
       "8               cancellation_seconds     9.249\n",
       "5                  placement_seconds   9.13709\n",
       "7               cancellation_minutes    8.9041\n",
       "4                  placement_minutes   8.76853\n",
       "2                      distance_(km)   7.80962\n",
       "28     placement_seconds_freq_encode   7.43522\n",
       "31  cancellation_seconds_freq_encode   7.42428\n",
       "27     placement_minutes_freq_encode   7.37087\n",
       "30  cancellation_minutes_freq_encode   7.09235\n",
       "26       placement_hours_freq_encode   3.97272\n",
       "29    cancellation_hours_freq_encode   3.86157\n",
       "6                 cancellation_hours   3.50166\n",
       "3                    placement_hours   3.39712\n",
       "24         placement_day_freq_encode   2.00557\n",
       "0                      placement_day   2.00378\n",
       "25      cancellation_day_freq_encode   1.87508\n",
       "1                   cancellation_day   1.36638\n",
       "13      standard_or_express_Standard   1.18172\n",
       "9      personal_or_business_Personal   1.08557\n",
       "15                  platform_android  0.986631\n",
       "16                  platform_desktop  0.958653\n",
       "17                      platform_ios  0.344647\n",
       "20                cancelled_by_Staff  0.166092\n",
       "22               scheduled_Scheduled  0.101741\n",
       "21                  cancelled_by_nan         0\n",
       "14           standard_or_express_nan         0\n",
       "19                      platform_nan         0\n",
       "18                 platform_peer_web         0\n",
       "12                  vehicle_type_nan         0\n",
       "11        vehicle_type_Standard Bike         0\n",
       "10          personal_or_business_nan         0\n",
       "23                     scheduled_nan         0"
      ]
     },
     "execution_count": 38,
     "metadata": {},
     "output_type": "execute_result"
    }
   ],
   "source": [
    "get_lgbm_varimp(model, train_columns)"
   ]
  },
  {
   "cell_type": "markdown",
   "metadata": {},
   "source": [
    "### 2.2.2 Plot for the percentages of Feature Importance"
   ]
  },
  {
   "cell_type": "code",
   "execution_count": 39,
   "metadata": {},
   "outputs": [
    {
     "data": {
      "image/png": "[encoded data removed]",
      "text/plain": [
       "<Figure size 1080x720 with 1 Axes>"
      ]
     },
     "metadata": {
      "needs_background": "light"
     },
     "output_type": "display_data"
    }
   ],
   "source": [
    "#plot the variable importance\n",
    "ax=lgb.plot_importance(model, max_num_features=40, figsize=(15,10))\n",
    "plt.show()"
   ]
  },
  {
   "cell_type": "code",
   "execution_count": 40,
   "metadata": {},
   "outputs": [],
   "source": [
    "#drop irrelevant columns/variables from X features\n",
    "columns = ['cancelled_by_nan', 'platform_nan', 'vehicle_type_nan', 'platform_peer_web','standard_or_express_nan', \n",
    "           'vehicle_type_Standard Bike', 'personal_or_business_nan', 'scheduled_nan']\n",
    "X.drop(columns, inplace=True, axis=1)"
   ]
  },
  {
   "cell_type": "markdown",
   "metadata": {},
   "source": [
    "### 2.2.3 Check Imbalance in the target variable/column\n",
    "The target variable being a multi-class has a probability of some classes having more example than others"
   ]
  },
  {
   "cell_type": "code",
   "execution_count": 41,
   "metadata": {
    "scrolled": false
   },
   "outputs": [
    {
     "name": "stdout",
     "output_type": "stream",
     "text": [
      "Class=0, n=1763 (27.997%)\n",
      "Class=1, n=1204 (19.120%)\n",
      "Class=2, n=1106 (17.564%)\n",
      "Class=3, n=1228 (19.501%)\n",
      "Class=4, n=336 (5.336%)\n",
      "Class=5, n=589 (9.354%)\n",
      "Class=6, n=71 (1.128%)\n"
     ]
    },
    {
     "data": {
      "image/png": "[encoded data removed]",
      "text/plain": [
       "<Figure size 432x288 with 1 Axes>"
      ]
     },
     "metadata": {
      "needs_background": "light"
     },
     "output_type": "display_data"
    }
   ],
   "source": [
    "from collections import Counter\n",
    "import matplotlib.pyplot as plt\n",
    "# summarize distribution\n",
    "counter = Counter(y)\n",
    "for k,v in counter.items():\n",
    "    per = v / len(y) * 100\n",
    "    print('Class=%d, n=%d (%.3f%%)' % (k, v, per))\n",
    "#\n",
    "#plot the distribution\n",
    "plt.bar(counter.keys(), counter.values())\n",
    "plt.show()"
   ]
  },
  {
   "cell_type": "markdown",
   "metadata": {},
   "source": [
    "The classes in the target variable are imbalanced, we use SMOTE to oversample the dataset"
   ]
  },
  {
   "cell_type": "code",
   "execution_count": 42,
   "metadata": {},
   "outputs": [],
   "source": [
    "#oversample the data to balance the target variable\n",
    "from imblearn.over_sampling import SMOTE\n",
    "# transform the dataset\n",
    "oversample = SMOTE()\n",
    "X, y = oversample.fit_resample(X, y)"
   ]
  },
  {
   "cell_type": "markdown",
   "metadata": {},
   "source": [
    "**Over-sampled data (balanced target variable)**"
   ]
  },
  {
   "cell_type": "code",
   "execution_count": 43,
   "metadata": {
    "scrolled": false
   },
   "outputs": [
    {
     "name": "stdout",
     "output_type": "stream",
     "text": [
      "Class=0, n=1763 (14.286%)\n",
      "Class=1, n=1763 (14.286%)\n",
      "Class=2, n=1763 (14.286%)\n",
      "Class=3, n=1763 (14.286%)\n",
      "Class=4, n=1763 (14.286%)\n",
      "Class=5, n=1763 (14.286%)\n",
      "Class=6, n=1763 (14.286%)\n"
     ]
    },
    {
     "data": {
      "image/png": "[encoded data removed]",
      "text/plain": [
       "<Figure size 432x288 with 1 Axes>"
      ]
     },
     "metadata": {
      "needs_background": "light"
     },
     "output_type": "display_data"
    }
   ],
   "source": [
    "from collections import Counter\n",
    "import matplotlib.pyplot as plt\n",
    "# summarize distribution\n",
    "counter = Counter(y)\n",
    "for k,v in counter.items():\n",
    "    per = v / len(y) * 100\n",
    "    print('Class=%d, n=%d (%.3f%%)' % (k, v, per))\n",
    "#plot the distribution\n",
    "plt.bar(counter.keys(), counter.values())\n",
    "plt.show()"
   ]
  },
  {
   "cell_type": "markdown",
   "metadata": {},
   "source": [
    "### 2.3 Model Selection\n",
    "Identify the best model with higher accuracy from a list of classifier models"
   ]
  },
  {
   "cell_type": "markdown",
   "metadata": {},
   "source": [
    "**Calculate the baseline.**"
   ]
  },
  {
   "cell_type": "code",
   "execution_count": 44,
   "metadata": {},
   "outputs": [
    {
     "name": "stdout",
     "output_type": "stream",
     "text": [
      "Log Loss:  0.6786745525024142\n",
      "Accuracy:  0.7059141236834998\n"
     ]
    }
   ],
   "source": [
    "#split model\n",
    "import random\n",
    "random.seed(1234)\n",
    "x_train, x_valid, y_train, y_valid = train_test_split(X, y, test_size=0.3, random_state=42)\n",
    "#\n",
    "#model the training set and calculate the metrics\n",
    "clf = lgb.LGBMClassifier().fit(x_train, y_train)\n",
    "#\n",
    "from sklearn.metrics import log_loss, accuracy_score\n",
    "print('Log Loss: ', log_loss(y_valid, clf.predict_proba(x_valid)))\n",
    "print('Accuracy: ', accuracy_score(y_valid, clf.predict(x_valid)))"
   ]
  },
  {
   "cell_type": "code",
   "execution_count": 45,
   "metadata": {},
   "outputs": [
    {
     "name": "stdout",
     "output_type": "stream",
     "text": [
      "X_train:  (8638, 24) X_test:  (3703, 24) y_train:  (8638,) y_test:  (3703,)\n"
     ]
    }
   ],
   "source": [
    "print('X_train: ', x_train.shape, 'X_test: ', x_valid.shape, 'y_train: ', y_train.shape, 'y_test: ', y_valid.shape)"
   ]
  },
  {
   "cell_type": "code",
   "execution_count": 46,
   "metadata": {},
   "outputs": [
    {
     "name": "stdout",
     "output_type": "stream",
     "text": [
      "model_name\n",
      "MLPClassifier                 0.142695\n",
      "SVC                           0.185798\n",
      "LogisticRegression            0.232800\n",
      "AdaBoostClassifier            0.359780\n",
      "DecisionTreeClassifier        0.366664\n",
      "RandomForestClassifier        0.431814\n",
      "XGBClassifier                 0.447858\n",
      "GradientBoostingClassifier    0.516655\n",
      "KNeighborsClassifier          0.563004\n",
      "CatBoostClassifier            0.580347\n",
      "LGBMClassifier                0.675232\n",
      "Name: accuracy, dtype: float64\n"
     ]
    }
   ],
   "source": [
    "from sklearn.linear_model import LogisticRegression\n",
    "from sklearn.ensemble import RandomForestClassifier, AdaBoostClassifier, GradientBoostingClassifier\n",
    "from sklearn.svm import SVC\n",
    "from catboost import CatBoostClassifier\n",
    "from xgboost import XGBClassifier\n",
    "from sklearn.neighbors import KNeighborsClassifier\n",
    "import lightgbm as lgb\n",
    "from sklearn.neural_network import MLPClassifier #Neural networks\n",
    "from sklearn.tree import DecisionTreeClassifier \n",
    "from sklearn.model_selection import cross_val_score\n",
    "from sklearn.metrics import log_loss, accuracy_score\n",
    "#\n",
    "models = [\n",
    "    RandomForestClassifier(n_estimators=100, max_depth=2, random_state=0),\n",
    "    SVC(decision_function_shape=\"ovo\"),\n",
    "    LogisticRegression(random_state=0, solver='lbfgs', multi_class='multinomial'),\n",
    "    AdaBoostClassifier(),\n",
    "    CatBoostClassifier(iterations=300, depth=6, learning_rate=0.1, logging_level='Silent',\n",
    "                        eval_metric='Accuracy', random_state=42),\n",
    "    KNeighborsClassifier(),\n",
    "    GradientBoostingClassifier(),\n",
    "    XGBClassifier(objective='multi:softprob', eval_metric='logloss', learning_rate=0.1, max_depth=4, seed=27,\n",
    "                  n_estimators=20),\n",
    "    lgb.LGBMClassifier(objective='multiclass', \n",
    "                           boosting_type = 'goss', \n",
    "                           n_estimators = 1000, \n",
    "                           class_weight = 'balanced'),\n",
    "    MLPClassifier(solver='lbfgs', alpha=1e-5, hidden_layer_sizes=(150, 10), random_state=1),\n",
    "    DecisionTreeClassifier(max_depth = 2)\n",
    "]\n",
    "#\n",
    "CV = 5\n",
    "cv_df = pd.DataFrame(index=range(CV * len(models)))\n",
    "entries = []\n",
    "for model in models:\n",
    "    model_name = model.__class__.__name__\n",
    "    accuracies = cross_val_score(model, X, y, scoring='accuracy', cv=CV)\n",
    "    for fold_idx, accuracy in enumerate(accuracies):\n",
    "        entries.append((model_name, fold_idx, accuracy))\n",
    "cv_df = pd.DataFrame(entries, columns=['model_name', 'fold_idx', 'accuracy'])\n",
    "print(cv_df.groupby('model_name').accuracy.mean().sort_values())"
   ]
  },
  {
   "cell_type": "code",
   "execution_count": 47,
   "metadata": {},
   "outputs": [
    {
     "data": {
      "image/png": "[encoded data removed]",
      "text/plain": [
       "<Figure size 1440x576 with 1 Axes>"
      ]
     },
     "metadata": {
      "needs_background": "light"
     },
     "output_type": "display_data"
    }
   ],
   "source": [
    "fig, ax = plt.subplots()\n",
    "fig.set_size_inches(20,8)\n",
    "sns.boxplot(x='model_name', y='accuracy', data=cv_df)\n",
    "sns.stripplot(x='model_name', y='accuracy', data=cv_df, \n",
    "              size=8, jitter=True, edgecolor=\"gray\", linewidth=2)\n",
    "ax.set_xticklabels(ax.get_xticklabels(), rotation=45)\n",
    "plt.show()"
   ]
  },
  {
   "cell_type": "markdown",
   "metadata": {},
   "source": [
    "### 2.4 RandomForest Classifier"
   ]
  },
  {
   "cell_type": "code",
   "execution_count": 48,
   "metadata": {
    "scrolled": true
   },
   "outputs": [
    {
     "name": "stdout",
     "output_type": "stream",
     "text": [
      "Log Loss:  0.7148010235510329\n",
      "Accuracy: 0.7396705374021064\n",
      "RandomForest-RMSE:  1.3070365662334162\n",
      "              precision    recall  f1-score   support\n",
      "\n",
      "           0       0.52      0.55      0.53       532\n",
      "           1       0.55      0.45      0.50       544\n",
      "           2       0.64      0.55      0.59       532\n",
      "           3       0.93      0.86      0.90       549\n",
      "           4       0.88      0.93      0.91       525\n",
      "           5       0.68      0.86      0.76       517\n",
      "           6       0.97      0.99      0.98       504\n",
      "\n",
      "    accuracy                           0.74      3703\n",
      "   macro avg       0.74      0.74      0.74      3703\n",
      "weighted avg       0.74      0.74      0.74      3703\n",
      "\n"
     ]
    }
   ],
   "source": [
    "from sklearn.ensemble import RandomForestClassifier\n",
    "rf=RandomForestClassifier(n_estimators=1500, class_weight='balanced')\n",
    "rf.fit(x_train, y_train)\n",
    "#\n",
    "rf_pred=rf.predict(x_valid)\n",
    "#\n",
    "print('Log Loss: ', log_loss(y_valid, rf.predict_proba(x_valid)))\n",
    "print(\"Accuracy:\", accuracy_score(y_valid, rf_pred))\n",
    "#\n",
    "from sklearn.metrics import mean_squared_error, classification_report\n",
    "mse=mean_squared_error(y_valid, rf_pred)\n",
    "print('RandomForest-RMSE: ', np.sqrt(mse))\n",
    "#\n",
    "#classification Report\n",
    "print(classification_report(y_valid, rf_pred))"
   ]
  },
  {
   "cell_type": "markdown",
   "metadata": {},
   "source": [
    "### 2.5 LightGBM Classifier"
   ]
  },
  {
   "cell_type": "code",
   "execution_count": 49,
   "metadata": {},
   "outputs": [
    {
     "name": "stdout",
     "output_type": "stream",
     "text": [
      "Log Loss:  1.0674976979149138\n",
      "Accuracy: 0.7396705374021064\n",
      "RandomForest-RMSE:  1.2299705025784442\n",
      "              precision    recall  f1-score   support\n",
      "\n",
      "           0       0.49      0.50      0.49       532\n",
      "           1       0.54      0.50      0.52       544\n",
      "           2       0.55      0.55      0.55       532\n",
      "           3       0.93      0.91      0.92       549\n",
      "           4       0.91      0.92      0.92       525\n",
      "           5       0.76      0.81      0.78       517\n",
      "           6       0.98      1.00      0.99       504\n",
      "\n",
      "    accuracy                           0.74      3703\n",
      "   macro avg       0.74      0.74      0.74      3703\n",
      "weighted avg       0.74      0.74      0.74      3703\n",
      "\n"
     ]
    }
   ],
   "source": [
    "lgbm = lgb.LGBMClassifier(objective='multiclass', \n",
    "                           boosting_type = 'goss', \n",
    "                           n_estimators = 1000, \n",
    "                           class_weight = 'balanced')\n",
    "lgbm.fit(x_train, y_train)\n",
    "#\n",
    "lgbm_pred=lgbm.predict(x_valid)\n",
    "#\n",
    "print('Log Loss: ', log_loss(y_valid, lgbm.predict_proba(x_valid)))\n",
    "print(\"Accuracy:\", accuracy_score(y_valid, rf_pred))\n",
    "#\n",
    "from sklearn.metrics import mean_squared_error, classification_report\n",
    "mse=mean_squared_error(y_valid, lgbm_pred)\n",
    "print('RandomForest-RMSE: ', np.sqrt(mse))\n",
    "#\n",
    "#classification Report\n",
    "print(classification_report(y_valid, lgbm_pred))"
   ]
  },
  {
   "cell_type": "markdown",
   "metadata": {},
   "source": [
    "## 3. Predict the the data with Missing Cancel Reason (Test data)"
   ]
  },
  {
   "cell_type": "code",
   "execution_count": 50,
   "metadata": {},
   "outputs": [],
   "source": [
    "#drop irrelevant columns/variables from X features\n",
    "columns = ['cancelled_by_nan', 'platform_nan', 'vehicle_type_nan', 'platform_peer_web','standard_or_express_nan', \n",
    "           'vehicle_type_Standard Bike', 'personal_or_business_nan', 'scheduled_nan']\n",
    "test.drop(columns, inplace=True, axis=1)"
   ]
  },
  {
   "cell_type": "code",
   "execution_count": 51,
   "metadata": {},
   "outputs": [
    {
     "data": {
      "text/html": [
       "<div>\n",
       "<style scoped>\n",
       "    .dataframe tbody tr th:only-of-type {\n",
       "        vertical-align: middle;\n",
       "    }\n",
       "\n",
       "    .dataframe tbody tr th {\n",
       "        vertical-align: top;\n",
       "    }\n",
       "\n",
       "    .dataframe thead th {\n",
       "        text-align: right;\n",
       "    }\n",
       "</style>\n",
       "<table border=\"1\" class=\"dataframe\">\n",
       "  <thead>\n",
       "    <tr style=\"text-align: right;\">\n",
       "      <th></th>\n",
       "      <th>cancel_reason</th>\n",
       "    </tr>\n",
       "  </thead>\n",
       "  <tbody>\n",
       "    <tr>\n",
       "      <th>0</th>\n",
       "      <td>The driver is too far away.</td>\n",
       "    </tr>\n",
       "    <tr>\n",
       "      <th>1</th>\n",
       "      <td>No Partner</td>\n",
       "    </tr>\n",
       "    <tr>\n",
       "      <th>2</th>\n",
       "      <td>I placed the wrong locations.</td>\n",
       "    </tr>\n",
       "    <tr>\n",
       "      <th>3</th>\n",
       "      <td>My order is not ready.</td>\n",
       "    </tr>\n",
       "    <tr>\n",
       "      <th>4</th>\n",
       "      <td>No Partner</td>\n",
       "    </tr>\n",
       "  </tbody>\n",
       "</table>\n",
       "</div>"
      ],
      "text/plain": [
       "                   cancel_reason\n",
       "0    The driver is too far away.\n",
       "1                     No Partner\n",
       "2  I placed the wrong locations.\n",
       "3         My order is not ready.\n",
       "4                     No Partner"
      ]
     },
     "metadata": {},
     "output_type": "display_data"
    }
   ],
   "source": [
    "pred = rf.predict(test)\n",
    "#\n",
    "submission=pd.DataFrame()\n",
    "submission['cancel_reason'] = pred.reshape((pred.shape[0]))\n",
    "#\n",
    "submission['cancel_reason'] = submission['cancel_reason'].replace({0: 'No driver has been allocated to my request.',\n",
    "                                         1: 'My order is not ready.', \n",
    "                                         2: 'I placed the wrong locations.',\n",
    "                                         3: 'No Partner', \n",
    "                                         4: 'Customer error', \n",
    "                                         5: 'The driver is too far away.',\n",
    "                                         6: 'Delay'})\n",
    "#\n",
    "submission.to_csv('catboost_submission.csv',index=False) #export the predicted values as csv \n",
    "#\n",
    "#relad the predicted data\n",
    "file1=pd.read_csv('catboost_submission.csv')\n",
    "display(file1.head())"
   ]
  },
  {
   "cell_type": "code",
   "execution_count": 52,
   "metadata": {},
   "outputs": [
    {
     "data": {
      "text/plain": [
       "array(['The driver is too far away.', 'No Partner',\n",
       "       'I placed the wrong locations.', 'My order is not ready.',\n",
       "       'No driver has been allocated to my request.', 'Delay',\n",
       "       'Customer error'], dtype=object)"
      ]
     },
     "execution_count": 52,
     "metadata": {},
     "output_type": "execute_result"
    }
   ],
   "source": [
    "file1.cancel_reason.unique()"
   ]
  },
  {
   "cell_type": "code",
   "execution_count": 53,
   "metadata": {},
   "outputs": [
    {
     "data": {
      "text/html": [
       "<div>\n",
       "<style scoped>\n",
       "    .dataframe tbody tr th:only-of-type {\n",
       "        vertical-align: middle;\n",
       "    }\n",
       "\n",
       "    .dataframe tbody tr th {\n",
       "        vertical-align: top;\n",
       "    }\n",
       "\n",
       "    .dataframe thead th {\n",
       "        text-align: right;\n",
       "    }\n",
       "</style>\n",
       "<table border=\"1\" class=\"dataframe\">\n",
       "  <thead>\n",
       "    <tr style=\"text-align: right;\">\n",
       "      <th></th>\n",
       "      <th>cancel_reason</th>\n",
       "    </tr>\n",
       "  </thead>\n",
       "  <tbody>\n",
       "    <tr>\n",
       "      <th>0</th>\n",
       "      <td>No driver has been allocated to my request.</td>\n",
       "    </tr>\n",
       "    <tr>\n",
       "      <th>1</th>\n",
       "      <td>No Partner</td>\n",
       "    </tr>\n",
       "    <tr>\n",
       "      <th>2</th>\n",
       "      <td>My order is not ready.</td>\n",
       "    </tr>\n",
       "    <tr>\n",
       "      <th>3</th>\n",
       "      <td>My order is not ready.</td>\n",
       "    </tr>\n",
       "    <tr>\n",
       "      <th>4</th>\n",
       "      <td>No Partner</td>\n",
       "    </tr>\n",
       "  </tbody>\n",
       "</table>\n",
       "</div>"
      ],
      "text/plain": [
       "                                 cancel_reason\n",
       "0  No driver has been allocated to my request.\n",
       "1                                   No Partner\n",
       "2                       My order is not ready.\n",
       "3                       My order is not ready.\n",
       "4                                   No Partner"
      ]
     },
     "metadata": {},
     "output_type": "display_data"
    }
   ],
   "source": [
    "pred = lgbm.predict(test)\n",
    "#\n",
    "submission=pd.DataFrame()\n",
    "submission['cancel_reason'] = pred.reshape((pred.shape[0]))\n",
    "#\n",
    "submission['cancel_reason'] = submission['cancel_reason'].replace({0: 'No driver has been allocated to my request.',\n",
    "                                         1: 'My order is not ready.', \n",
    "                                         2: 'I placed the wrong locations.',\n",
    "                                         3: 'No Partner', \n",
    "                                         4: 'Customer error', \n",
    "                                         5: 'The driver is too far away.',\n",
    "                                         6: 'Delay'})\n",
    "#\n",
    "submission.to_csv('LightGBM_submission.csv',index=False) #export the predicted values as csv \n",
    "#\n",
    "#relad the predicted data\n",
    "file2=pd.read_csv('LightGBM_submission.csv')\n",
    "display(file2.head())"
   ]
  },
  {
   "cell_type": "markdown",
   "metadata": {},
   "source": [
    "We opt for **LightGBM** with higher precision, recall, and accuracy"
   ]
  },
  {
   "cell_type": "markdown",
   "metadata": {},
   "source": [
    "## 4. Serialize LightGBM Model"
   ]
  },
  {
   "cell_type": "code",
   "execution_count": 54,
   "metadata": {},
   "outputs": [],
   "source": [
    "import pickle\n",
    "pickle.dump(model, open('LightGBM_model.pkl','wb'))"
   ]
  },
  {
   "cell_type": "code",
   "execution_count": 55,
   "metadata": {},
   "outputs": [],
   "source": [
    "###########################################################################################################################"
   ]
  }
 ],
 "metadata": {
  "kernelspec": {
   "display_name": "Python 3",
   "language": "python",
   "name": "python3"
  },
  "language_info": {
   "codemirror_mode": {
    "name": "ipython",
    "version": 3
   },
   "file_extension": ".py",
   "mimetype": "text/x-python",
   "name": "python",
   "nbconvert_exporter": "python",
   "pygments_lexer": "ipython3",
   "version": "3.7.4"
  }
 },
 "nbformat": 4,
 "nbformat_minor": 2
}
